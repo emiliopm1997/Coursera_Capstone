{
 "cells": [
  {
   "cell_type": "markdown",
   "metadata": {
    "collapsed": true
   },
   "source": [
    "# CAPSTONE PROJECT\n",
    "### Severity of Accidents\n",
    "\n",
    "This project will be used to analyze accidents' data and predict its severity using Machine Learning models. More over, there needs to be some data cleaning before diving into the modeling."
   ]
  },
  {
   "cell_type": "code",
   "execution_count": 1,
   "metadata": {},
   "outputs": [
    {
     "name": "stderr",
     "output_type": "stream",
     "text": [
      "C:\\Users\\EMILIO\\Anaconda3\\envs\\datascience\\lib\\site-packages\\ipykernel\\parentpoller.py:116: UserWarning: Parent poll failed.  If the frontend dies,\n",
      "                the kernel may be left running.  Please let us know\n",
      "                about your system (bitness, Python, etc.) at\n",
      "                ipython-dev@scipy.org\n",
      "  ipython-dev@scipy.org\"\"\")\n"
     ]
    }
   ],
   "source": [
    "import numpy as np\n",
    "import pandas as pd\n",
    "import matplotlib as mpl\n",
    "import matplotlib.pyplot as plt\n",
    "%matplotlib inline\n",
    "from random import randint\n",
    "import winsound\n",
    "duration = 1000  # milliseconds\n",
    "freq = 440  # Hz"
   ]
  },
  {
   "cell_type": "code",
   "execution_count": 2,
   "metadata": {},
   "outputs": [
    {
     "name": "stdout",
     "output_type": "stream",
     "text": [
      "Hello Capstone Project Course!\n"
     ]
    }
   ],
   "source": [
    "print('Hello Capstone Project Course!')"
   ]
  },
  {
   "cell_type": "code",
   "execution_count": 3,
   "metadata": {},
   "outputs": [
    {
     "name": "stderr",
     "output_type": "stream",
     "text": [
      "C:\\Users\\EMILIO\\Anaconda3\\envs\\datascience\\lib\\site-packages\\IPython\\core\\interactiveshell.py:3072: DtypeWarning: Columns (33) have mixed types.Specify dtype option on import or set low_memory=False.\n",
      "  interactivity=interactivity, compiler=compiler, result=result)\n"
     ]
    },
    {
     "data": {
      "text/html": [
       "<div>\n",
       "<style scoped>\n",
       "    .dataframe tbody tr th:only-of-type {\n",
       "        vertical-align: middle;\n",
       "    }\n",
       "\n",
       "    .dataframe tbody tr th {\n",
       "        vertical-align: top;\n",
       "    }\n",
       "\n",
       "    .dataframe thead th {\n",
       "        text-align: right;\n",
       "    }\n",
       "</style>\n",
       "<table border=\"1\" class=\"dataframe\">\n",
       "  <thead>\n",
       "    <tr style=\"text-align: right;\">\n",
       "      <th></th>\n",
       "      <th>SEVERITYCODE</th>\n",
       "      <th>X</th>\n",
       "      <th>Y</th>\n",
       "      <th>OBJECTID</th>\n",
       "      <th>INCKEY</th>\n",
       "      <th>COLDETKEY</th>\n",
       "      <th>REPORTNO</th>\n",
       "      <th>STATUS</th>\n",
       "      <th>ADDRTYPE</th>\n",
       "      <th>INTKEY</th>\n",
       "      <th>...</th>\n",
       "      <th>ROADCOND</th>\n",
       "      <th>LIGHTCOND</th>\n",
       "      <th>PEDROWNOTGRNT</th>\n",
       "      <th>SDOTCOLNUM</th>\n",
       "      <th>SPEEDING</th>\n",
       "      <th>ST_COLCODE</th>\n",
       "      <th>ST_COLDESC</th>\n",
       "      <th>SEGLANEKEY</th>\n",
       "      <th>CROSSWALKKEY</th>\n",
       "      <th>HITPARKEDCAR</th>\n",
       "    </tr>\n",
       "  </thead>\n",
       "  <tbody>\n",
       "    <tr>\n",
       "      <th>0</th>\n",
       "      <td>2</td>\n",
       "      <td>-122.323148</td>\n",
       "      <td>47.703140</td>\n",
       "      <td>1</td>\n",
       "      <td>1307</td>\n",
       "      <td>1307</td>\n",
       "      <td>3502005</td>\n",
       "      <td>Matched</td>\n",
       "      <td>Intersection</td>\n",
       "      <td>37475.0</td>\n",
       "      <td>...</td>\n",
       "      <td>Wet</td>\n",
       "      <td>Daylight</td>\n",
       "      <td>NaN</td>\n",
       "      <td>NaN</td>\n",
       "      <td>NaN</td>\n",
       "      <td>10</td>\n",
       "      <td>Entering at angle</td>\n",
       "      <td>0</td>\n",
       "      <td>0</td>\n",
       "      <td>N</td>\n",
       "    </tr>\n",
       "    <tr>\n",
       "      <th>1</th>\n",
       "      <td>1</td>\n",
       "      <td>-122.347294</td>\n",
       "      <td>47.647172</td>\n",
       "      <td>2</td>\n",
       "      <td>52200</td>\n",
       "      <td>52200</td>\n",
       "      <td>2607959</td>\n",
       "      <td>Matched</td>\n",
       "      <td>Block</td>\n",
       "      <td>NaN</td>\n",
       "      <td>...</td>\n",
       "      <td>Wet</td>\n",
       "      <td>Dark - Street Lights On</td>\n",
       "      <td>NaN</td>\n",
       "      <td>6354039.0</td>\n",
       "      <td>NaN</td>\n",
       "      <td>11</td>\n",
       "      <td>From same direction - both going straight - bo...</td>\n",
       "      <td>0</td>\n",
       "      <td>0</td>\n",
       "      <td>N</td>\n",
       "    </tr>\n",
       "    <tr>\n",
       "      <th>2</th>\n",
       "      <td>1</td>\n",
       "      <td>-122.334540</td>\n",
       "      <td>47.607871</td>\n",
       "      <td>3</td>\n",
       "      <td>26700</td>\n",
       "      <td>26700</td>\n",
       "      <td>1482393</td>\n",
       "      <td>Matched</td>\n",
       "      <td>Block</td>\n",
       "      <td>NaN</td>\n",
       "      <td>...</td>\n",
       "      <td>Dry</td>\n",
       "      <td>Daylight</td>\n",
       "      <td>NaN</td>\n",
       "      <td>4323031.0</td>\n",
       "      <td>NaN</td>\n",
       "      <td>32</td>\n",
       "      <td>One parked--one moving</td>\n",
       "      <td>0</td>\n",
       "      <td>0</td>\n",
       "      <td>N</td>\n",
       "    </tr>\n",
       "    <tr>\n",
       "      <th>3</th>\n",
       "      <td>1</td>\n",
       "      <td>-122.334803</td>\n",
       "      <td>47.604803</td>\n",
       "      <td>4</td>\n",
       "      <td>1144</td>\n",
       "      <td>1144</td>\n",
       "      <td>3503937</td>\n",
       "      <td>Matched</td>\n",
       "      <td>Block</td>\n",
       "      <td>NaN</td>\n",
       "      <td>...</td>\n",
       "      <td>Dry</td>\n",
       "      <td>Daylight</td>\n",
       "      <td>NaN</td>\n",
       "      <td>NaN</td>\n",
       "      <td>NaN</td>\n",
       "      <td>23</td>\n",
       "      <td>From same direction - all others</td>\n",
       "      <td>0</td>\n",
       "      <td>0</td>\n",
       "      <td>N</td>\n",
       "    </tr>\n",
       "    <tr>\n",
       "      <th>4</th>\n",
       "      <td>2</td>\n",
       "      <td>-122.306426</td>\n",
       "      <td>47.545739</td>\n",
       "      <td>5</td>\n",
       "      <td>17700</td>\n",
       "      <td>17700</td>\n",
       "      <td>1807429</td>\n",
       "      <td>Matched</td>\n",
       "      <td>Intersection</td>\n",
       "      <td>34387.0</td>\n",
       "      <td>...</td>\n",
       "      <td>Wet</td>\n",
       "      <td>Daylight</td>\n",
       "      <td>NaN</td>\n",
       "      <td>4028032.0</td>\n",
       "      <td>NaN</td>\n",
       "      <td>10</td>\n",
       "      <td>Entering at angle</td>\n",
       "      <td>0</td>\n",
       "      <td>0</td>\n",
       "      <td>N</td>\n",
       "    </tr>\n",
       "  </tbody>\n",
       "</table>\n",
       "<p>5 rows × 38 columns</p>\n",
       "</div>"
      ],
      "text/plain": [
       "   SEVERITYCODE           X          Y  OBJECTID  INCKEY  COLDETKEY REPORTNO  \\\n",
       "0             2 -122.323148  47.703140         1    1307       1307  3502005   \n",
       "1             1 -122.347294  47.647172         2   52200      52200  2607959   \n",
       "2             1 -122.334540  47.607871         3   26700      26700  1482393   \n",
       "3             1 -122.334803  47.604803         4    1144       1144  3503937   \n",
       "4             2 -122.306426  47.545739         5   17700      17700  1807429   \n",
       "\n",
       "    STATUS      ADDRTYPE   INTKEY  ... ROADCOND                LIGHTCOND  \\\n",
       "0  Matched  Intersection  37475.0  ...      Wet                 Daylight   \n",
       "1  Matched         Block      NaN  ...      Wet  Dark - Street Lights On   \n",
       "2  Matched         Block      NaN  ...      Dry                 Daylight   \n",
       "3  Matched         Block      NaN  ...      Dry                 Daylight   \n",
       "4  Matched  Intersection  34387.0  ...      Wet                 Daylight   \n",
       "\n",
       "  PEDROWNOTGRNT  SDOTCOLNUM SPEEDING ST_COLCODE  \\\n",
       "0           NaN         NaN      NaN         10   \n",
       "1           NaN   6354039.0      NaN         11   \n",
       "2           NaN   4323031.0      NaN         32   \n",
       "3           NaN         NaN      NaN         23   \n",
       "4           NaN   4028032.0      NaN         10   \n",
       "\n",
       "                                          ST_COLDESC  SEGLANEKEY  \\\n",
       "0                                  Entering at angle           0   \n",
       "1  From same direction - both going straight - bo...           0   \n",
       "2                             One parked--one moving           0   \n",
       "3                   From same direction - all others           0   \n",
       "4                                  Entering at angle           0   \n",
       "\n",
       "   CROSSWALKKEY  HITPARKEDCAR  \n",
       "0             0             N  \n",
       "1             0             N  \n",
       "2             0             N  \n",
       "3             0             N  \n",
       "4             0             N  \n",
       "\n",
       "[5 rows x 38 columns]"
      ]
     },
     "execution_count": 3,
     "metadata": {},
     "output_type": "execute_result"
    }
   ],
   "source": [
    "path='https://s3.us.cloud-object-storage.appdomain.cloud/cf-courses-data/CognitiveClass/DP0701EN/version-2/Data-Collisions.csv'\n",
    "df=pd.read_csv(path)\n",
    "df.head()"
   ]
  },
  {
   "cell_type": "code",
   "execution_count": 4,
   "metadata": {},
   "outputs": [
    {
     "data": {
      "text/plain": [
       "Index(['ADDRTYPE', 'COLDETKEY', 'COLLISIONTYPE', 'CROSSWALKKEY',\n",
       "       'EXCEPTRSNCODE', 'EXCEPTRSNDESC', 'HITPARKEDCAR', 'INATTENTIONIND',\n",
       "       'INCDATE', 'INCDTTM', 'INCKEY', 'INTKEY', 'JUNCTIONTYPE', 'LIGHTCOND',\n",
       "       'LOCATION', 'OBJECTID', 'PEDCOUNT', 'PEDCYLCOUNT', 'PEDROWNOTGRNT',\n",
       "       'PERSONCOUNT', 'REPORTNO', 'ROADCOND', 'SDOTCOLNUM', 'SDOT_COLCODE',\n",
       "       'SDOT_COLDESC', 'SEGLANEKEY', 'SEVERITYCODE', 'SEVERITYCODE.1',\n",
       "       'SEVERITYDESC', 'SPEEDING', 'STATUS', 'ST_COLCODE', 'ST_COLDESC',\n",
       "       'UNDERINFL', 'VEHCOUNT', 'WEATHER', 'X', 'Y'],\n",
       "      dtype='object')"
      ]
     },
     "execution_count": 4,
     "metadata": {},
     "output_type": "execute_result"
    }
   ],
   "source": [
    "df.columns.sort_values(ascending=True)"
   ]
  },
  {
   "cell_type": "code",
   "execution_count": 5,
   "metadata": {},
   "outputs": [
    {
     "data": {
      "text/html": [
       "<div>\n",
       "<style scoped>\n",
       "    .dataframe tbody tr th:only-of-type {\n",
       "        vertical-align: middle;\n",
       "    }\n",
       "\n",
       "    .dataframe tbody tr th {\n",
       "        vertical-align: top;\n",
       "    }\n",
       "\n",
       "    .dataframe thead th {\n",
       "        text-align: right;\n",
       "    }\n",
       "</style>\n",
       "<table border=\"1\" class=\"dataframe\">\n",
       "  <thead>\n",
       "    <tr style=\"text-align: right;\">\n",
       "      <th></th>\n",
       "      <th>SEVERITYCODE</th>\n",
       "      <th>REPORTNO</th>\n",
       "      <th>ADDRTYPE</th>\n",
       "      <th>COLLISIONTYPE</th>\n",
       "      <th>JUNCTIONTYPE</th>\n",
       "      <th>INATTENTIONIND</th>\n",
       "      <th>UNDERINFL</th>\n",
       "      <th>WEATHER</th>\n",
       "      <th>ROADCOND</th>\n",
       "      <th>LIGHTCOND</th>\n",
       "      <th>SPEEDING</th>\n",
       "    </tr>\n",
       "  </thead>\n",
       "  <tbody>\n",
       "    <tr>\n",
       "      <th>0</th>\n",
       "      <td>2</td>\n",
       "      <td>3502005</td>\n",
       "      <td>Intersection</td>\n",
       "      <td>Angles</td>\n",
       "      <td>At Intersection (intersection related)</td>\n",
       "      <td>NaN</td>\n",
       "      <td>N</td>\n",
       "      <td>Overcast</td>\n",
       "      <td>Wet</td>\n",
       "      <td>Daylight</td>\n",
       "      <td>NaN</td>\n",
       "    </tr>\n",
       "    <tr>\n",
       "      <th>1</th>\n",
       "      <td>1</td>\n",
       "      <td>2607959</td>\n",
       "      <td>Block</td>\n",
       "      <td>Sideswipe</td>\n",
       "      <td>Mid-Block (not related to intersection)</td>\n",
       "      <td>NaN</td>\n",
       "      <td>0</td>\n",
       "      <td>Raining</td>\n",
       "      <td>Wet</td>\n",
       "      <td>Dark - Street Lights On</td>\n",
       "      <td>NaN</td>\n",
       "    </tr>\n",
       "    <tr>\n",
       "      <th>2</th>\n",
       "      <td>1</td>\n",
       "      <td>1482393</td>\n",
       "      <td>Block</td>\n",
       "      <td>Parked Car</td>\n",
       "      <td>Mid-Block (not related to intersection)</td>\n",
       "      <td>NaN</td>\n",
       "      <td>0</td>\n",
       "      <td>Overcast</td>\n",
       "      <td>Dry</td>\n",
       "      <td>Daylight</td>\n",
       "      <td>NaN</td>\n",
       "    </tr>\n",
       "    <tr>\n",
       "      <th>3</th>\n",
       "      <td>1</td>\n",
       "      <td>3503937</td>\n",
       "      <td>Block</td>\n",
       "      <td>Other</td>\n",
       "      <td>Mid-Block (not related to intersection)</td>\n",
       "      <td>NaN</td>\n",
       "      <td>N</td>\n",
       "      <td>Clear</td>\n",
       "      <td>Dry</td>\n",
       "      <td>Daylight</td>\n",
       "      <td>NaN</td>\n",
       "    </tr>\n",
       "    <tr>\n",
       "      <th>4</th>\n",
       "      <td>2</td>\n",
       "      <td>1807429</td>\n",
       "      <td>Intersection</td>\n",
       "      <td>Angles</td>\n",
       "      <td>At Intersection (intersection related)</td>\n",
       "      <td>NaN</td>\n",
       "      <td>0</td>\n",
       "      <td>Raining</td>\n",
       "      <td>Wet</td>\n",
       "      <td>Daylight</td>\n",
       "      <td>NaN</td>\n",
       "    </tr>\n",
       "  </tbody>\n",
       "</table>\n",
       "</div>"
      ],
      "text/plain": [
       "   SEVERITYCODE REPORTNO      ADDRTYPE COLLISIONTYPE  \\\n",
       "0             2  3502005  Intersection        Angles   \n",
       "1             1  2607959         Block     Sideswipe   \n",
       "2             1  1482393         Block    Parked Car   \n",
       "3             1  3503937         Block         Other   \n",
       "4             2  1807429  Intersection        Angles   \n",
       "\n",
       "                              JUNCTIONTYPE INATTENTIONIND UNDERINFL   WEATHER  \\\n",
       "0   At Intersection (intersection related)            NaN         N  Overcast   \n",
       "1  Mid-Block (not related to intersection)            NaN         0   Raining   \n",
       "2  Mid-Block (not related to intersection)            NaN         0  Overcast   \n",
       "3  Mid-Block (not related to intersection)            NaN         N     Clear   \n",
       "4   At Intersection (intersection related)            NaN         0   Raining   \n",
       "\n",
       "  ROADCOND                LIGHTCOND SPEEDING  \n",
       "0      Wet                 Daylight      NaN  \n",
       "1      Wet  Dark - Street Lights On      NaN  \n",
       "2      Dry                 Daylight      NaN  \n",
       "3      Dry                 Daylight      NaN  \n",
       "4      Wet                 Daylight      NaN  "
      ]
     },
     "execution_count": 5,
     "metadata": {},
     "output_type": "execute_result"
    }
   ],
   "source": [
    "labels = ['X','Y','OBJECTID','INCKEY','COLDETKEY','INTKEY','EXCEPTRSNCODE','EXCEPTRSNDESC',\n",
    "          'SEVERITYDESC','SEVERITYCODE.1','CROSSWALKKEY','INCDATE','LOCATION','SDOTCOLNUM',\n",
    "          'SEGLANEKEY','SDOT_COLDESC', 'STATUS','ST_COLCODE', 'ST_COLDESC','PEDCOUNT', 'PEDCYLCOUNT',\n",
    "       'PEDROWNOTGRNT','PERSONCOUNT','SDOT_COLCODE','VEHCOUNT','HITPARKEDCAR','INCDTTM']\n",
    "df_filtered=df.drop(columns=labels,axis=1)\n",
    "df_filtered.head()"
   ]
  },
  {
   "cell_type": "code",
   "execution_count": 6,
   "metadata": {},
   "outputs": [
    {
     "data": {
      "text/plain": [
       "(194673, 11)"
      ]
     },
     "execution_count": 6,
     "metadata": {},
     "output_type": "execute_result"
    }
   ],
   "source": [
    "df_filtered.shape"
   ]
  },
  {
   "cell_type": "markdown",
   "metadata": {},
   "source": [
    "## Exploratory Analysis"
   ]
  },
  {
   "cell_type": "markdown",
   "metadata": {},
   "source": [
    "First, I want to check if there are repeated rows of information and delete them if necessary."
   ]
  },
  {
   "cell_type": "code",
   "execution_count": 7,
   "metadata": {},
   "outputs": [
    {
     "data": {
      "text/html": [
       "<div>\n",
       "<style scoped>\n",
       "    .dataframe tbody tr th:only-of-type {\n",
       "        vertical-align: middle;\n",
       "    }\n",
       "\n",
       "    .dataframe tbody tr th {\n",
       "        vertical-align: top;\n",
       "    }\n",
       "\n",
       "    .dataframe thead th {\n",
       "        text-align: right;\n",
       "    }\n",
       "</style>\n",
       "<table border=\"1\" class=\"dataframe\">\n",
       "  <thead>\n",
       "    <tr style=\"text-align: right;\">\n",
       "      <th></th>\n",
       "      <th>SEVERITY</th>\n",
       "      <th>REPORTNO</th>\n",
       "      <th>ADDRTYPE</th>\n",
       "      <th>COLLISIONTYPE</th>\n",
       "      <th>JUNCTIONTYPE</th>\n",
       "      <th>INATTENTIONIND</th>\n",
       "      <th>UNDERINFL</th>\n",
       "      <th>WEATHER</th>\n",
       "      <th>ROADCOND</th>\n",
       "      <th>LIGHTCOND</th>\n",
       "      <th>SPEEDING</th>\n",
       "    </tr>\n",
       "  </thead>\n",
       "  <tbody>\n",
       "    <tr>\n",
       "      <th>0</th>\n",
       "      <td>2</td>\n",
       "      <td>3502005</td>\n",
       "      <td>Intersection</td>\n",
       "      <td>Angles</td>\n",
       "      <td>At Intersection (intersection related)</td>\n",
       "      <td>NaN</td>\n",
       "      <td>N</td>\n",
       "      <td>Overcast</td>\n",
       "      <td>Wet</td>\n",
       "      <td>Daylight</td>\n",
       "      <td>NaN</td>\n",
       "    </tr>\n",
       "    <tr>\n",
       "      <th>1</th>\n",
       "      <td>1</td>\n",
       "      <td>2607959</td>\n",
       "      <td>Block</td>\n",
       "      <td>Sideswipe</td>\n",
       "      <td>Mid-Block (not related to intersection)</td>\n",
       "      <td>NaN</td>\n",
       "      <td>0</td>\n",
       "      <td>Raining</td>\n",
       "      <td>Wet</td>\n",
       "      <td>Dark - Street Lights On</td>\n",
       "      <td>NaN</td>\n",
       "    </tr>\n",
       "    <tr>\n",
       "      <th>2</th>\n",
       "      <td>1</td>\n",
       "      <td>1482393</td>\n",
       "      <td>Block</td>\n",
       "      <td>Parked Car</td>\n",
       "      <td>Mid-Block (not related to intersection)</td>\n",
       "      <td>NaN</td>\n",
       "      <td>0</td>\n",
       "      <td>Overcast</td>\n",
       "      <td>Dry</td>\n",
       "      <td>Daylight</td>\n",
       "      <td>NaN</td>\n",
       "    </tr>\n",
       "    <tr>\n",
       "      <th>3</th>\n",
       "      <td>1</td>\n",
       "      <td>3503937</td>\n",
       "      <td>Block</td>\n",
       "      <td>Other</td>\n",
       "      <td>Mid-Block (not related to intersection)</td>\n",
       "      <td>NaN</td>\n",
       "      <td>N</td>\n",
       "      <td>Clear</td>\n",
       "      <td>Dry</td>\n",
       "      <td>Daylight</td>\n",
       "      <td>NaN</td>\n",
       "    </tr>\n",
       "    <tr>\n",
       "      <th>4</th>\n",
       "      <td>2</td>\n",
       "      <td>1807429</td>\n",
       "      <td>Intersection</td>\n",
       "      <td>Angles</td>\n",
       "      <td>At Intersection (intersection related)</td>\n",
       "      <td>NaN</td>\n",
       "      <td>0</td>\n",
       "      <td>Raining</td>\n",
       "      <td>Wet</td>\n",
       "      <td>Daylight</td>\n",
       "      <td>NaN</td>\n",
       "    </tr>\n",
       "  </tbody>\n",
       "</table>\n",
       "</div>"
      ],
      "text/plain": [
       "   SEVERITY REPORTNO      ADDRTYPE COLLISIONTYPE  \\\n",
       "0         2  3502005  Intersection        Angles   \n",
       "1         1  2607959         Block     Sideswipe   \n",
       "2         1  1482393         Block    Parked Car   \n",
       "3         1  3503937         Block         Other   \n",
       "4         2  1807429  Intersection        Angles   \n",
       "\n",
       "                              JUNCTIONTYPE INATTENTIONIND UNDERINFL   WEATHER  \\\n",
       "0   At Intersection (intersection related)            NaN         N  Overcast   \n",
       "1  Mid-Block (not related to intersection)            NaN         0   Raining   \n",
       "2  Mid-Block (not related to intersection)            NaN         0  Overcast   \n",
       "3  Mid-Block (not related to intersection)            NaN         N     Clear   \n",
       "4   At Intersection (intersection related)            NaN         0   Raining   \n",
       "\n",
       "  ROADCOND                LIGHTCOND SPEEDING  \n",
       "0      Wet                 Daylight      NaN  \n",
       "1      Wet  Dark - Street Lights On      NaN  \n",
       "2      Dry                 Daylight      NaN  \n",
       "3      Dry                 Daylight      NaN  \n",
       "4      Wet                 Daylight      NaN  "
      ]
     },
     "execution_count": 7,
     "metadata": {},
     "output_type": "execute_result"
    }
   ],
   "source": [
    "df_filtered.rename(columns={'SEVERITYCODE':'SEVERITY'},inplace=True)\n",
    "df_filtered.head()"
   ]
  },
  {
   "cell_type": "code",
   "execution_count": 8,
   "metadata": {},
   "outputs": [
    {
     "data": {
      "text/plain": [
       "(194670, 11)"
      ]
     },
     "execution_count": 8,
     "metadata": {},
     "output_type": "execute_result"
    }
   ],
   "source": [
    "df_filtered = df_filtered.drop_duplicates()\n",
    "df_filtered.shape"
   ]
  },
  {
   "cell_type": "markdown",
   "metadata": {},
   "source": [
    "This means that there were 3 duplicated rows."
   ]
  },
  {
   "cell_type": "code",
   "execution_count": 9,
   "metadata": {},
   "outputs": [],
   "source": [
    "df_filtered.drop(columns='REPORTNO',axis=1,inplace=True)"
   ]
  },
  {
   "cell_type": "markdown",
   "metadata": {},
   "source": [
    "Next, I want to put the correct types in columns."
   ]
  },
  {
   "cell_type": "code",
   "execution_count": 10,
   "metadata": {},
   "outputs": [
    {
     "data": {
      "text/plain": [
       "SEVERITY           int64\n",
       "ADDRTYPE          object\n",
       "COLLISIONTYPE     object\n",
       "JUNCTIONTYPE      object\n",
       "INATTENTIONIND    object\n",
       "UNDERINFL         object\n",
       "WEATHER           object\n",
       "ROADCOND          object\n",
       "LIGHTCOND         object\n",
       "SPEEDING          object\n",
       "dtype: object"
      ]
     },
     "execution_count": 10,
     "metadata": {},
     "output_type": "execute_result"
    }
   ],
   "source": [
    "df_filtered.dtypes"
   ]
  },
  {
   "cell_type": "markdown",
   "metadata": {},
   "source": [
    "Let's start with the INATTENTIONIND column. Let's change the Y value for 1s and the null values for 0 (given that the driver was actually paying attention)."
   ]
  },
  {
   "cell_type": "code",
   "execution_count": 11,
   "metadata": {},
   "outputs": [],
   "source": [
    "df_filtered.rename(columns={'INATTENTIONIND':'LACK_ATTENTION'},inplace=True)"
   ]
  },
  {
   "cell_type": "code",
   "execution_count": 12,
   "metadata": {},
   "outputs": [
    {
     "data": {
      "text/plain": [
       "0    164866\n",
       "1     29804\n",
       "Name: LACK_ATTENTION, dtype: int64"
      ]
     },
     "execution_count": 12,
     "metadata": {},
     "output_type": "execute_result"
    }
   ],
   "source": [
    "df_filtered['LACK_ATTENTION'].replace('Y','1',inplace=True)\n",
    "df_filtered['LACK_ATTENTION'].replace(np.nan,'0',inplace=True)\n",
    "df_filtered['LACK_ATTENTION'].value_counts()"
   ]
  },
  {
   "cell_type": "markdown",
   "metadata": {},
   "source": [
    "Let's now change it to the type 'int64'."
   ]
  },
  {
   "cell_type": "code",
   "execution_count": 13,
   "metadata": {},
   "outputs": [
    {
     "data": {
      "text/plain": [
       "dtype('int64')"
      ]
     },
     "execution_count": 13,
     "metadata": {},
     "output_type": "execute_result"
    }
   ],
   "source": [
    "df_filtered['LACK_ATTENTION']=df_filtered['LACK_ATTENTION'].astype('int64')\n",
    "df_filtered['LACK_ATTENTION'].dtypes"
   ]
  },
  {
   "cell_type": "markdown",
   "metadata": {},
   "source": [
    "Let's repeat the same for the columns UNDERINFL and SPEEDING. (Yes will be represented as 1 and No as 0)"
   ]
  },
  {
   "cell_type": "code",
   "execution_count": 14,
   "metadata": {},
   "outputs": [
    {
     "data": {
      "text/plain": [
       "False    189786\n",
       "True       4884\n",
       "Name: UNDERINFL, dtype: int64"
      ]
     },
     "execution_count": 14,
     "metadata": {},
     "output_type": "execute_result"
    }
   ],
   "source": [
    "df_filtered['UNDERINFL'].isnull().value_counts()"
   ]
  },
  {
   "cell_type": "markdown",
   "metadata": {},
   "source": [
    "There are some missing values in UNDERINFL. Given that it would be a guess to put either Yes or No for these cases, it is better to drop those rows."
   ]
  },
  {
   "cell_type": "code",
   "execution_count": 15,
   "metadata": {},
   "outputs": [
    {
     "name": "stdout",
     "output_type": "stream",
     "text": [
      "Number of dropped rows: 4884\n"
     ]
    }
   ],
   "source": [
    "before= df_filtered.shape[0]\n",
    "df_filtered.dropna(axis=0, subset=['UNDERINFL'], inplace=True)\n",
    "after= df_filtered.shape[0]\n",
    "print('Number of dropped rows: %.0f' %(before-after))"
   ]
  },
  {
   "cell_type": "code",
   "execution_count": 16,
   "metadata": {},
   "outputs": [
    {
     "data": {
      "text/plain": [
       "dtype('int64')"
      ]
     },
     "execution_count": 16,
     "metadata": {},
     "output_type": "execute_result"
    }
   ],
   "source": [
    "df_filtered['UNDERINFL'].replace('Y','1',inplace=True)\n",
    "df_filtered['UNDERINFL'].replace('N','0',inplace=True)\n",
    "df_filtered['UNDERINFL']=df_filtered['UNDERINFL'].astype('int64')\n",
    "df_filtered['UNDERINFL'].dtypes"
   ]
  },
  {
   "cell_type": "markdown",
   "metadata": {},
   "source": [
    "For SPEEDING:"
   ]
  },
  {
   "cell_type": "code",
   "execution_count": 17,
   "metadata": {},
   "outputs": [
    {
     "data": {
      "text/plain": [
       "dtype('int64')"
      ]
     },
     "execution_count": 17,
     "metadata": {},
     "output_type": "execute_result"
    }
   ],
   "source": [
    "df_filtered['SPEEDING'].replace('Y','1',inplace=True)\n",
    "df_filtered['SPEEDING'].replace(np.nan,'0',inplace=True)\n",
    "df_filtered['SPEEDING']=df_filtered['SPEEDING'].astype('int64')\n",
    "df_filtered['SPEEDING'].dtypes"
   ]
  },
  {
   "cell_type": "code",
   "execution_count": 18,
   "metadata": {},
   "outputs": [
    {
     "data": {
      "text/plain": [
       "SEVERITY           int64\n",
       "ADDRTYPE          object\n",
       "COLLISIONTYPE     object\n",
       "JUNCTIONTYPE      object\n",
       "LACK_ATTENTION     int64\n",
       "UNDERINFL          int64\n",
       "WEATHER           object\n",
       "ROADCOND          object\n",
       "LIGHTCOND         object\n",
       "SPEEDING           int64\n",
       "dtype: object"
      ]
     },
     "execution_count": 18,
     "metadata": {},
     "output_type": "execute_result"
    }
   ],
   "source": [
    "df_filtered.dtypes"
   ]
  },
  {
   "cell_type": "markdown",
   "metadata": {},
   "source": [
    "Moving on to categorical variables, first we need to check for missing values."
   ]
  },
  {
   "cell_type": "code",
   "execution_count": 19,
   "metadata": {},
   "outputs": [
    {
     "data": {
      "text/html": [
       "<div>\n",
       "<style scoped>\n",
       "    .dataframe tbody tr th:only-of-type {\n",
       "        vertical-align: middle;\n",
       "    }\n",
       "\n",
       "    .dataframe tbody tr th {\n",
       "        vertical-align: top;\n",
       "    }\n",
       "\n",
       "    .dataframe thead th {\n",
       "        text-align: right;\n",
       "    }\n",
       "</style>\n",
       "<table border=\"1\" class=\"dataframe\">\n",
       "  <thead>\n",
       "    <tr style=\"text-align: right;\">\n",
       "      <th></th>\n",
       "      <th>SEVERITY</th>\n",
       "      <th>ADDRTYPE</th>\n",
       "      <th>COLLISIONTYPE</th>\n",
       "      <th>JUNCTIONTYPE</th>\n",
       "      <th>LACK_ATTENTION</th>\n",
       "      <th>UNDERINFL</th>\n",
       "      <th>WEATHER</th>\n",
       "      <th>ROADCOND</th>\n",
       "      <th>LIGHTCOND</th>\n",
       "      <th>SPEEDING</th>\n",
       "    </tr>\n",
       "  </thead>\n",
       "  <tbody>\n",
       "    <tr>\n",
       "      <th>Null_Counts</th>\n",
       "      <td>0</td>\n",
       "      <td>1819</td>\n",
       "      <td>21</td>\n",
       "      <td>6178</td>\n",
       "      <td>0</td>\n",
       "      <td>0</td>\n",
       "      <td>197</td>\n",
       "      <td>128</td>\n",
       "      <td>286</td>\n",
       "      <td>0</td>\n",
       "    </tr>\n",
       "  </tbody>\n",
       "</table>\n",
       "</div>"
      ],
      "text/plain": [
       "             SEVERITY  ADDRTYPE  COLLISIONTYPE  JUNCTIONTYPE  LACK_ATTENTION  \\\n",
       "Null_Counts         0      1819             21          6178               0   \n",
       "\n",
       "             UNDERINFL  WEATHER  ROADCOND  LIGHTCOND  SPEEDING  \n",
       "Null_Counts          0      197       128        286         0  "
      ]
     },
     "execution_count": 19,
     "metadata": {},
     "output_type": "execute_result"
    }
   ],
   "source": [
    "df_filtered.isnull().sum().to_frame('Null_Counts').transpose()"
   ]
  },
  {
   "cell_type": "markdown",
   "metadata": {},
   "source": [
    "In the ADDRTYPE, JUNCTIONTYPE, COLLISIONTYPE columns, the NaN values can be changed to \"other\" or \"unknown\"."
   ]
  },
  {
   "cell_type": "code",
   "execution_count": 20,
   "metadata": {},
   "outputs": [
    {
     "data": {
      "text/html": [
       "<div>\n",
       "<style scoped>\n",
       "    .dataframe tbody tr th:only-of-type {\n",
       "        vertical-align: middle;\n",
       "    }\n",
       "\n",
       "    .dataframe tbody tr th {\n",
       "        vertical-align: top;\n",
       "    }\n",
       "\n",
       "    .dataframe thead th {\n",
       "        text-align: right;\n",
       "    }\n",
       "</style>\n",
       "<table border=\"1\" class=\"dataframe\">\n",
       "  <thead>\n",
       "    <tr style=\"text-align: right;\">\n",
       "      <th></th>\n",
       "      <th>SEVERITY</th>\n",
       "      <th>ADDRTYPE</th>\n",
       "      <th>COLLISIONTYPE</th>\n",
       "      <th>JUNCTIONTYPE</th>\n",
       "      <th>LACK_ATTENTION</th>\n",
       "      <th>UNDERINFL</th>\n",
       "      <th>WEATHER</th>\n",
       "      <th>ROADCOND</th>\n",
       "      <th>LIGHTCOND</th>\n",
       "      <th>SPEEDING</th>\n",
       "    </tr>\n",
       "  </thead>\n",
       "  <tbody>\n",
       "    <tr>\n",
       "      <th>Null_Counts</th>\n",
       "      <td>0</td>\n",
       "      <td>0</td>\n",
       "      <td>0</td>\n",
       "      <td>0</td>\n",
       "      <td>0</td>\n",
       "      <td>0</td>\n",
       "      <td>197</td>\n",
       "      <td>128</td>\n",
       "      <td>286</td>\n",
       "      <td>0</td>\n",
       "    </tr>\n",
       "  </tbody>\n",
       "</table>\n",
       "</div>"
      ],
      "text/plain": [
       "             SEVERITY  ADDRTYPE  COLLISIONTYPE  JUNCTIONTYPE  LACK_ATTENTION  \\\n",
       "Null_Counts         0         0              0             0               0   \n",
       "\n",
       "             UNDERINFL  WEATHER  ROADCOND  LIGHTCOND  SPEEDING  \n",
       "Null_Counts          0      197       128        286         0  "
      ]
     },
     "execution_count": 20,
     "metadata": {},
     "output_type": "execute_result"
    }
   ],
   "source": [
    "df_filtered['ADDRTYPE'].replace(np.nan,'Other Address Type',inplace=True)\n",
    "df_filtered['JUNCTIONTYPE'].replace('Unknown','Unknown Junction Type',inplace=True)\n",
    "df_filtered['JUNCTIONTYPE'].replace(np.nan,'Unknown Junction Type',inplace=True)\n",
    "df_filtered['COLLISIONTYPE'].replace('Other','Other Collision Type',inplace=True)\n",
    "df_filtered['COLLISIONTYPE'].replace(np.nan,'Other Collision Type',inplace=True)\n",
    "df_filtered.isnull().sum().to_frame('Null_Counts').transpose()"
   ]
  },
  {
   "cell_type": "markdown",
   "metadata": {},
   "source": [
    "For the remaining columns, it is easier just to remove the rows that contain NaN values."
   ]
  },
  {
   "cell_type": "code",
   "execution_count": 21,
   "metadata": {},
   "outputs": [
    {
     "data": {
      "text/html": [
       "<div>\n",
       "<style scoped>\n",
       "    .dataframe tbody tr th:only-of-type {\n",
       "        vertical-align: middle;\n",
       "    }\n",
       "\n",
       "    .dataframe tbody tr th {\n",
       "        vertical-align: top;\n",
       "    }\n",
       "\n",
       "    .dataframe thead th {\n",
       "        text-align: right;\n",
       "    }\n",
       "</style>\n",
       "<table border=\"1\" class=\"dataframe\">\n",
       "  <thead>\n",
       "    <tr style=\"text-align: right;\">\n",
       "      <th></th>\n",
       "      <th>SEVERITY</th>\n",
       "      <th>ADDRTYPE</th>\n",
       "      <th>COLLISIONTYPE</th>\n",
       "      <th>JUNCTIONTYPE</th>\n",
       "      <th>LACK_ATTENTION</th>\n",
       "      <th>UNDERINFL</th>\n",
       "      <th>WEATHER</th>\n",
       "      <th>ROADCOND</th>\n",
       "      <th>LIGHTCOND</th>\n",
       "      <th>SPEEDING</th>\n",
       "    </tr>\n",
       "  </thead>\n",
       "  <tbody>\n",
       "    <tr>\n",
       "      <th>Null_Counts</th>\n",
       "      <td>0</td>\n",
       "      <td>0</td>\n",
       "      <td>0</td>\n",
       "      <td>0</td>\n",
       "      <td>0</td>\n",
       "      <td>0</td>\n",
       "      <td>0</td>\n",
       "      <td>0</td>\n",
       "      <td>0</td>\n",
       "      <td>0</td>\n",
       "    </tr>\n",
       "  </tbody>\n",
       "</table>\n",
       "</div>"
      ],
      "text/plain": [
       "             SEVERITY  ADDRTYPE  COLLISIONTYPE  JUNCTIONTYPE  LACK_ATTENTION  \\\n",
       "Null_Counts         0         0              0             0               0   \n",
       "\n",
       "             UNDERINFL  WEATHER  ROADCOND  LIGHTCOND  SPEEDING  \n",
       "Null_Counts          0        0         0          0         0  "
      ]
     },
     "execution_count": 21,
     "metadata": {},
     "output_type": "execute_result"
    }
   ],
   "source": [
    "df_filtered.dropna(axis=0, subset=['WEATHER','ROADCOND','LIGHTCOND'], inplace=True)\n",
    "df_filtered.isnull().sum().to_frame('Null_Counts').transpose()"
   ]
  },
  {
   "cell_type": "markdown",
   "metadata": {},
   "source": [
    "There are no more values on the data set, therefore, now I want to balance the data set."
   ]
  },
  {
   "cell_type": "code",
   "execution_count": 22,
   "metadata": {},
   "outputs": [
    {
     "data": {
      "text/plain": [
       "1    132284\n",
       "2     57050\n",
       "Name: SEVERITY, dtype: int64"
      ]
     },
     "execution_count": 22,
     "metadata": {},
     "output_type": "execute_result"
    }
   ],
   "source": [
    "df_filtered['SEVERITY'].value_counts()"
   ]
  },
  {
   "cell_type": "markdown",
   "metadata": {},
   "source": [
    "It is neccessary to erase some rows with the label 1 to balance this dataset."
   ]
  },
  {
   "cell_type": "code",
   "execution_count": 24,
   "metadata": {
    "collapsed": true
   },
   "outputs": [
    {
     "name": "stdout",
     "output_type": "stream",
     "text": [
      "There have been 10000 deletions.\n",
      "There have been 10000 deletions.\n",
      "There have been 20000 deletions.\n",
      "There have been 20000 deletions.\n",
      "There have been 20000 deletions.\n",
      "There have been 20000 deletions.\n",
      "There have been 20000 deletions.\n",
      "There have been 20000 deletions.\n",
      "There have been 30000 deletions.\n",
      "There have been 30000 deletions.\n",
      "There have been 30000 deletions.\n",
      "There have been 30000 deletions.\n",
      "There have been 40000 deletions.\n",
      "There have been 40000 deletions.\n",
      "There have been 40000 deletions.\n",
      "There have been 40000 deletions.\n",
      "There have been 40000 deletions.\n",
      "There have been 40000 deletions.\n",
      "There have been 50000 deletions.\n",
      "There have been 50000 deletions.\n",
      "There have been 50000 deletions.\n",
      "There have been 60000 deletions.\n",
      "There have been 70000 deletions.\n",
      "There have been 70000 deletions.\n"
     ]
    }
   ],
   "source": [
    "df_EA=df_filtered.copy().reset_index(drop=True)\n",
    "num_2=df_EA['SEVERITY'].value_counts()[2]\n",
    "num_1=df_EA['SEVERITY'].value_counts()[1]\n",
    "j=0\n",
    "while (num_1>num_2):\n",
    "    \n",
    "    i=randint(0,len(df_EA)-1)\n",
    "    if (df_EA.loc[i,'SEVERITY']==1):\n",
    "        df_EA.drop(index=i,inplace=True)\n",
    "        df_EA.reset_index(drop=True,inplace=True)\n",
    "        j=j+1\n",
    "        \n",
    "        if (j%10000==0):\n",
    "            print(\"There have been %d deletions.\" %j)\n",
    "            winsound.Beep(freq, duration)\n",
    "    \n",
    "    num_1=df_EA['SEVERITY'].value_counts()[1]"
   ]
  },
  {
   "cell_type": "code",
   "execution_count": 26,
   "metadata": {},
   "outputs": [
    {
     "data": {
      "text/plain": [
       "2    57050\n",
       "1    57050\n",
       "Name: SEVERITY, dtype: int64"
      ]
     },
     "execution_count": 26,
     "metadata": {},
     "output_type": "execute_result"
    }
   ],
   "source": [
    "df_EA['SEVERITY'].value_counts()"
   ]
  },
  {
   "cell_type": "markdown",
   "metadata": {},
   "source": [
    "The data is now balanced and it is a good point to get checkpoint of the data set."
   ]
  },
  {
   "cell_type": "code",
   "execution_count": 30,
   "metadata": {},
   "outputs": [],
   "source": [
    "df_EA.to_csv('.\\exploratory_analysis_df.csv',header=True,index=False)"
   ]
  },
  {
   "cell_type": "code",
   "execution_count": 33,
   "metadata": {},
   "outputs": [],
   "source": [
    "df_EA=pd.read_csv('.\\exploratory_analysis_df.csv')"
   ]
  },
  {
   "cell_type": "markdown",
   "metadata": {},
   "source": [
    "Now it is time to perform some visual analysis."
   ]
  },
  {
   "cell_type": "code",
   "execution_count": 128,
   "metadata": {},
   "outputs": [],
   "source": [
    "def print_bar(col,col_label):\n",
    "    \"\"\"Prints a bar chart of a specified column vs. Severity\"\"\"\n",
    "    \n",
    "    df_temp=df_EA[[col,'SEVERITY']]\n",
    "    df_temp= pd.crosstab(df_temp[col],df_temp.SEVERITY)\n",
    "    df_temp.plot(kind='bar',\n",
    "                        figsize=(10,6),\n",
    "                        width=0.8,\n",
    "                        fontsize=12,\n",
    "                        )\n",
    "    title= col_label + \" and Severity\"\n",
    "    plt.title(title,fontsize=16)\n",
    "    plt.xlabel(col_label,fontsize=12)\n",
    "    plt.ylabel('Count',fontsize=12)\n",
    "    plt.legend(title='Severity', fontsize=12)\n",
    "    name = col + '_SVRTY.png'\n",
    "    #plt.savefig(name, format='png')\n",
    "    #plt.close(\"all\")\n",
    "    \n",
    "    pass"
   ]
  },
  {
   "cell_type": "code",
   "execution_count": 129,
   "metadata": {
    "collapsed": true
   },
   "outputs": [
    {
     "data": {
      "image/png": "[encoded data removed]",
      "text/plain": [
       "<Figure size 720x432 with 1 Axes>"
      ]
     },
     "metadata": {
      "needs_background": "light"
     },
     "output_type": "display_data"
    }
   ],
   "source": [
    "print_bar('ADDRTYPE','Address Type')"
   ]
  },
  {
   "cell_type": "code",
   "execution_count": 130,
   "metadata": {
    "collapsed": true
   },
   "outputs": [
    {
     "data": {
      "image/png": "[encoded data removed]",
      "text/plain": [
       "<Figure size 720x432 with 1 Axes>"
      ]
     },
     "metadata": {
      "needs_background": "light"
     },
     "output_type": "display_data"
    }
   ],
   "source": [
    "print_bar('WEATHER','Weather')"
   ]
  },
  {
   "cell_type": "code",
   "execution_count": 131,
   "metadata": {
    "collapsed": true
   },
   "outputs": [
    {
     "data": {
      "image/png": "[encoded data removed]",
      "text/plain": [
       "<Figure size 720x432 with 1 Axes>"
      ]
     },
     "metadata": {
      "needs_background": "light"
     },
     "output_type": "display_data"
    }
   ],
   "source": [
    "print_bar('ROADCOND','Road Conditions')"
   ]
  },
  {
   "cell_type": "code",
   "execution_count": 133,
   "metadata": {
    "collapsed": true
   },
   "outputs": [
    {
     "data": {
      "image/png": "[encoded data removed]",
      "text/plain": [
       "<Figure size 720x432 with 1 Axes>"
      ]
     },
     "metadata": {
      "needs_background": "light"
     },
     "output_type": "display_data"
    }
   ],
   "source": [
    "print_bar('LIGHTCOND','Light Conditions')"
   ]
  },
  {
   "cell_type": "code",
   "execution_count": 154,
   "metadata": {
    "collapsed": true
   },
   "outputs": [
    {
     "data": {
      "image/png": "[encoded data removed]",
      "text/plain": [
       "<Figure size 720x432 with 1 Axes>"
      ]
     },
     "metadata": {
      "needs_background": "light"
     },
     "output_type": "display_data"
    }
   ],
   "source": [
    "print_bar('JUNCTIONTYPE','Junction Type Conditions')"
   ]
  },
  {
   "cell_type": "markdown",
   "metadata": {},
   "source": [
    "From these graphs, one can see that the unknowns significantly favor a target label even more than other feature categories in the WEATHER, ROADCOND, LIGHTCOND features. To avoid lossing a significant amout of more data, it will be probably best to return to the unbalanced data set, erase this unknown features, and then balance the data once again."
   ]
  },
  {
   "cell_type": "code",
   "execution_count": 150,
   "metadata": {},
   "outputs": [
    {
     "data": {
      "text/plain": [
       "189334"
      ]
     },
     "execution_count": 150,
     "metadata": {},
     "output_type": "execute_result"
    }
   ],
   "source": [
    "df_filtered.shape[0]"
   ]
  },
  {
   "cell_type": "code",
   "execution_count": 155,
   "metadata": {},
   "outputs": [
    {
     "name": "stdout",
     "output_type": "stream",
     "text": [
      "The number of deleted rows is 21339\n",
      "The shape of the new dataset is:  (167995, 10)\n"
     ]
    }
   ],
   "source": [
    "df_filtered2=df_filtered.copy()\n",
    "df_filtered2.drop(df_filtered2[df_filtered2['WEATHER']=='Unknown'].index, inplace=True)\n",
    "df_filtered2.drop(df_filtered2[df_filtered2['ROADCOND']=='Unknown'].index, inplace=True)\n",
    "df_filtered2.drop(df_filtered2[df_filtered2['JUNCTIONTYPE']=='Unknown Junction Type'].index, inplace=True)\n",
    "df_filtered2.drop(df_filtered2[df_filtered2['LIGHTCOND']=='Unknown'].index, inplace=True)\n",
    "print('The number of deleted rows is %d' %(df_filtered.shape[0]-df_filtered2.shape[0]))\n",
    "print('The shape of the new dataset is: ', df_filtered2.shape)"
   ]
  },
  {
   "cell_type": "markdown",
   "metadata": {},
   "source": [
    "Now that these incidents have been deleted, let's try to balance the data set once again."
   ]
  },
  {
   "cell_type": "code",
   "execution_count": 156,
   "metadata": {},
   "outputs": [
    {
     "data": {
      "text/plain": [
       "1    112482\n",
       "2     55513\n",
       "Name: SEVERITY, dtype: int64"
      ]
     },
     "execution_count": 156,
     "metadata": {},
     "output_type": "execute_result"
    }
   ],
   "source": [
    "df_filtered2['SEVERITY'].value_counts()"
   ]
  },
  {
   "cell_type": "code",
   "execution_count": 166,
   "metadata": {},
   "outputs": [],
   "source": [
    "df_EA2=df_filtered2.copy().reset_index(drop=True)\n",
    "num_2=df_EA2['SEVERITY'].value_counts()[2]\n",
    "num_1=df_EA2['SEVERITY'].value_counts()[1]\n",
    "j=0\n",
    "while (num_1>num_2):\n",
    "    \n",
    "    i=randint(0,len(df_EA2)-1)\n",
    "    if (df_EA2.loc[i,'SEVERITY']==1):\n",
    "        df_EA2.drop(index=i,inplace=True)\n",
    "        df_EA2.reset_index(drop=True,inplace=True)\n",
    "        j=j+1\n",
    "        num_1=df_EA2['SEVERITY'].value_counts()[1]\n",
    "        \n",
    "        if (j%10000==0):\n",
    "            print(\"There have been %d deletions.\" %j)\n",
    "            winsound.Beep(freq, duration)\n",
    "\n",
    "winsound.Beep(freq, int(duration/2))\n",
    "winsound.Beep(freq, int(duration/2))\n",
    "winsound.Beep(freq, int(duration/2))"
   ]
  },
  {
   "cell_type": "code",
   "execution_count": 167,
   "metadata": {},
   "outputs": [
    {
     "data": {
      "text/plain": [
       "2    55513\n",
       "1    55513\n",
       "Name: SEVERITY, dtype: int64"
      ]
     },
     "execution_count": 167,
     "metadata": {},
     "output_type": "execute_result"
    }
   ],
   "source": [
    "df_EA2['SEVERITY'].value_counts()"
   ]
  },
  {
   "cell_type": "markdown",
   "metadata": {},
   "source": [
    "The dataset is balanced once more. Let's create a new checkpoint."
   ]
  },
  {
   "cell_type": "code",
   "execution_count": 168,
   "metadata": {},
   "outputs": [],
   "source": [
    "df_EA2.to_csv('.\\df_EA2.csv',header=True,index=False)"
   ]
  },
  {
   "cell_type": "code",
   "execution_count": 2,
   "metadata": {},
   "outputs": [],
   "source": [
    "df_EA2= pd.read_csv('.\\df_EA2.csv')"
   ]
  },
  {
   "cell_type": "code",
   "execution_count": 172,
   "metadata": {},
   "outputs": [
    {
     "data": {
      "text/plain": [
       "(111026, 10)"
      ]
     },
     "execution_count": 172,
     "metadata": {},
     "output_type": "execute_result"
    }
   ],
   "source": [
    "df_EA2.shape"
   ]
  },
  {
   "cell_type": "markdown",
   "metadata": {},
   "source": [
    "### Encoding the Data"
   ]
  },
  {
   "cell_type": "markdown",
   "metadata": {},
   "source": [
    "Let's start creating a frame with already encoded variables."
   ]
  },
  {
   "cell_type": "code",
   "execution_count": 3,
   "metadata": {},
   "outputs": [],
   "source": [
    "df_encoded=df_EA2[['LACK_ATTENTION','UNDERINFL','SPEEDING','SEVERITY']]"
   ]
  },
  {
   "cell_type": "markdown",
   "metadata": {},
   "source": [
    "Now we need to change the rest of the columns in df_EA2 into their dummy forms."
   ]
  },
  {
   "cell_type": "code",
   "execution_count": 4,
   "metadata": {},
   "outputs": [],
   "source": [
    "data=df_EA2[['ADDRTYPE']]\n",
    "data = pd.get_dummies(data.ADDRTYPE)\n",
    "df_encoded=pd.concat([data,df_encoded],axis=1)\n",
    "\n",
    "data=df_EA2[['COLLISIONTYPE']]\n",
    "data = pd.get_dummies(data.COLLISIONTYPE)\n",
    "df_encoded=pd.concat([data,df_encoded],axis=1)\n",
    "\n",
    "data=df_EA2[['JUNCTIONTYPE']]\n",
    "data = pd.get_dummies(data.JUNCTIONTYPE)\n",
    "df_encoded=pd.concat([data,df_encoded],axis=1)\n",
    "\n",
    "data=df_EA2[['WEATHER']].replace('Other','Other (Weather)')\n",
    "data = pd.get_dummies(data.WEATHER)\n",
    "df_encoded=pd.concat([data,df_encoded],axis=1)\n",
    "\n",
    "data=df_EA2[['ROADCOND']].replace('Other','Other (Road Conditions)')\n",
    "data = pd.get_dummies(data.ROADCOND)\n",
    "df_encoded=pd.concat([data,df_encoded],axis=1)\n",
    "\n",
    "data=df_EA2[['LIGHTCOND']].replace('Other','Other (Light Conditions)')\n",
    "data = pd.get_dummies(data.LIGHTCOND)\n",
    "df_encoded=pd.concat([data,df_encoded],axis=1)"
   ]
  },
  {
   "cell_type": "code",
   "execution_count": 5,
   "metadata": {},
   "outputs": [
    {
     "data": {
      "text/html": [
       "<div>\n",
       "<style scoped>\n",
       "    .dataframe tbody tr th:only-of-type {\n",
       "        vertical-align: middle;\n",
       "    }\n",
       "\n",
       "    .dataframe tbody tr th {\n",
       "        vertical-align: top;\n",
       "    }\n",
       "\n",
       "    .dataframe thead th {\n",
       "        text-align: right;\n",
       "    }\n",
       "</style>\n",
       "<table border=\"1\" class=\"dataframe\">\n",
       "  <thead>\n",
       "    <tr style=\"text-align: right;\">\n",
       "      <th></th>\n",
       "      <th>Dark - No Street Lights</th>\n",
       "      <th>Dark - Street Lights Off</th>\n",
       "      <th>Dark - Street Lights On</th>\n",
       "      <th>Dark - Unknown Lighting</th>\n",
       "      <th>Dawn</th>\n",
       "      <th>Daylight</th>\n",
       "      <th>Dusk</th>\n",
       "      <th>Other (Light Conditions)</th>\n",
       "      <th>Dry</th>\n",
       "      <th>Ice</th>\n",
       "      <th>...</th>\n",
       "      <th>Right Turn</th>\n",
       "      <th>Sideswipe</th>\n",
       "      <th>Alley</th>\n",
       "      <th>Block</th>\n",
       "      <th>Intersection</th>\n",
       "      <th>Other Address Type</th>\n",
       "      <th>LACK_ATTENTION</th>\n",
       "      <th>UNDERINFL</th>\n",
       "      <th>SPEEDING</th>\n",
       "      <th>SEVERITY</th>\n",
       "    </tr>\n",
       "  </thead>\n",
       "  <tbody>\n",
       "    <tr>\n",
       "      <th>0</th>\n",
       "      <td>0</td>\n",
       "      <td>0</td>\n",
       "      <td>0</td>\n",
       "      <td>0</td>\n",
       "      <td>0</td>\n",
       "      <td>1</td>\n",
       "      <td>0</td>\n",
       "      <td>0</td>\n",
       "      <td>0</td>\n",
       "      <td>0</td>\n",
       "      <td>...</td>\n",
       "      <td>0</td>\n",
       "      <td>0</td>\n",
       "      <td>0</td>\n",
       "      <td>0</td>\n",
       "      <td>1</td>\n",
       "      <td>0</td>\n",
       "      <td>0</td>\n",
       "      <td>0</td>\n",
       "      <td>0</td>\n",
       "      <td>2</td>\n",
       "    </tr>\n",
       "    <tr>\n",
       "      <th>1</th>\n",
       "      <td>0</td>\n",
       "      <td>0</td>\n",
       "      <td>1</td>\n",
       "      <td>0</td>\n",
       "      <td>0</td>\n",
       "      <td>0</td>\n",
       "      <td>0</td>\n",
       "      <td>0</td>\n",
       "      <td>0</td>\n",
       "      <td>0</td>\n",
       "      <td>...</td>\n",
       "      <td>0</td>\n",
       "      <td>1</td>\n",
       "      <td>0</td>\n",
       "      <td>1</td>\n",
       "      <td>0</td>\n",
       "      <td>0</td>\n",
       "      <td>0</td>\n",
       "      <td>0</td>\n",
       "      <td>0</td>\n",
       "      <td>1</td>\n",
       "    </tr>\n",
       "    <tr>\n",
       "      <th>2</th>\n",
       "      <td>0</td>\n",
       "      <td>0</td>\n",
       "      <td>0</td>\n",
       "      <td>0</td>\n",
       "      <td>0</td>\n",
       "      <td>1</td>\n",
       "      <td>0</td>\n",
       "      <td>0</td>\n",
       "      <td>1</td>\n",
       "      <td>0</td>\n",
       "      <td>...</td>\n",
       "      <td>0</td>\n",
       "      <td>0</td>\n",
       "      <td>0</td>\n",
       "      <td>1</td>\n",
       "      <td>0</td>\n",
       "      <td>0</td>\n",
       "      <td>0</td>\n",
       "      <td>0</td>\n",
       "      <td>0</td>\n",
       "      <td>1</td>\n",
       "    </tr>\n",
       "    <tr>\n",
       "      <th>3</th>\n",
       "      <td>0</td>\n",
       "      <td>0</td>\n",
       "      <td>0</td>\n",
       "      <td>0</td>\n",
       "      <td>0</td>\n",
       "      <td>1</td>\n",
       "      <td>0</td>\n",
       "      <td>0</td>\n",
       "      <td>0</td>\n",
       "      <td>0</td>\n",
       "      <td>...</td>\n",
       "      <td>0</td>\n",
       "      <td>0</td>\n",
       "      <td>0</td>\n",
       "      <td>0</td>\n",
       "      <td>1</td>\n",
       "      <td>0</td>\n",
       "      <td>0</td>\n",
       "      <td>0</td>\n",
       "      <td>0</td>\n",
       "      <td>2</td>\n",
       "    </tr>\n",
       "    <tr>\n",
       "      <th>4</th>\n",
       "      <td>0</td>\n",
       "      <td>0</td>\n",
       "      <td>0</td>\n",
       "      <td>0</td>\n",
       "      <td>0</td>\n",
       "      <td>1</td>\n",
       "      <td>0</td>\n",
       "      <td>0</td>\n",
       "      <td>1</td>\n",
       "      <td>0</td>\n",
       "      <td>...</td>\n",
       "      <td>0</td>\n",
       "      <td>0</td>\n",
       "      <td>0</td>\n",
       "      <td>0</td>\n",
       "      <td>1</td>\n",
       "      <td>0</td>\n",
       "      <td>0</td>\n",
       "      <td>0</td>\n",
       "      <td>0</td>\n",
       "      <td>2</td>\n",
       "    </tr>\n",
       "  </tbody>\n",
       "</table>\n",
       "<p>5 rows × 50 columns</p>\n",
       "</div>"
      ],
      "text/plain": [
       "   Dark - No Street Lights  Dark - Street Lights Off  Dark - Street Lights On  \\\n",
       "0                        0                         0                        0   \n",
       "1                        0                         0                        1   \n",
       "2                        0                         0                        0   \n",
       "3                        0                         0                        0   \n",
       "4                        0                         0                        0   \n",
       "\n",
       "   Dark - Unknown Lighting  Dawn  Daylight  Dusk  Other (Light Conditions)  \\\n",
       "0                        0     0         1     0                         0   \n",
       "1                        0     0         0     0                         0   \n",
       "2                        0     0         1     0                         0   \n",
       "3                        0     0         1     0                         0   \n",
       "4                        0     0         1     0                         0   \n",
       "\n",
       "   Dry  Ice  ...  Right Turn  Sideswipe  Alley  Block  Intersection  \\\n",
       "0    0    0  ...           0          0      0      0             1   \n",
       "1    0    0  ...           0          1      0      1             0   \n",
       "2    1    0  ...           0          0      0      1             0   \n",
       "3    0    0  ...           0          0      0      0             1   \n",
       "4    1    0  ...           0          0      0      0             1   \n",
       "\n",
       "   Other Address Type  LACK_ATTENTION  UNDERINFL  SPEEDING  SEVERITY  \n",
       "0                   0               0          0         0         2  \n",
       "1                   0               0          0         0         1  \n",
       "2                   0               0          0         0         1  \n",
       "3                   0               0          0         0         2  \n",
       "4                   0               0          0         0         2  \n",
       "\n",
       "[5 rows x 50 columns]"
      ]
     },
     "execution_count": 5,
     "metadata": {},
     "output_type": "execute_result"
    }
   ],
   "source": [
    "df_encoded.head()"
   ]
  },
  {
   "cell_type": "code",
   "execution_count": 204,
   "metadata": {},
   "outputs": [
    {
     "data": {
      "text/plain": [
       "(111026, 50)"
      ]
     },
     "execution_count": 204,
     "metadata": {},
     "output_type": "execute_result"
    }
   ],
   "source": [
    "df_encoded.shape"
   ]
  },
  {
   "cell_type": "markdown",
   "metadata": {},
   "source": [
    "## Building the Model"
   ]
  },
  {
   "cell_type": "markdown",
   "metadata": {},
   "source": [
    "### Train-Test-Split"
   ]
  },
  {
   "cell_type": "markdown",
   "metadata": {},
   "source": [
    "It is time to separate the features (X), with the target (y)."
   ]
  },
  {
   "cell_type": "code",
   "execution_count": 6,
   "metadata": {},
   "outputs": [],
   "source": [
    "X=df_encoded.drop('SEVERITY',axis=1)\n",
    "y=df_encoded['SEVERITY'].values"
   ]
  },
  {
   "cell_type": "markdown",
   "metadata": {},
   "source": [
    "Next, split the data into a training and testing set"
   ]
  },
  {
   "cell_type": "code",
   "execution_count": 7,
   "metadata": {},
   "outputs": [],
   "source": [
    "from sklearn.model_selection import train_test_split"
   ]
  },
  {
   "cell_type": "code",
   "execution_count": 8,
   "metadata": {},
   "outputs": [],
   "source": [
    "X_train , X_test , y_train , y_test = train_test_split( X, y, test_size=0.2, random_state=7)"
   ]
  },
  {
   "cell_type": "code",
   "execution_count": 9,
   "metadata": {},
   "outputs": [
    {
     "name": "stdout",
     "output_type": "stream",
     "text": [
      "X_train shape:  (88820, 49)\n",
      "X_test shape:  (22206, 49)\n",
      "y_train shape:  (88820,)\n",
      "y_test shape:  (22206,)\n"
     ]
    }
   ],
   "source": [
    "print('X_train shape: ', X_train.shape)\n",
    "print('X_test shape: ', X_test.shape)\n",
    "print('y_train shape: ', y_train.shape)\n",
    "print('y_test shape: ', y_test.shape)"
   ]
  },
  {
   "cell_type": "markdown",
   "metadata": {},
   "source": [
    "### KNN Model"
   ]
  },
  {
   "cell_type": "code",
   "execution_count": 10,
   "metadata": {},
   "outputs": [],
   "source": [
    "from sklearn. neighbors import KNeighborsClassifier\n",
    "from sklearn import metrics"
   ]
  },
  {
   "cell_type": "markdown",
   "metadata": {},
   "source": [
    "Given that I will be looking for the best K, I will split my training data into an actual training and validation data."
   ]
  },
  {
   "cell_type": "code",
   "execution_count": 212,
   "metadata": {},
   "outputs": [],
   "source": [
    "X_train2 , X_val , y_train2 , y_val = train_test_split( X_train, y_train, test_size=0.1, random_state=9)"
   ]
  },
  {
   "cell_type": "code",
   "execution_count": 218,
   "metadata": {},
   "outputs": [
    {
     "data": {
      "image/png": "[encoded data removed]",
      "text/plain": [
       "<Figure size 432x288 with 1 Axes>"
      ]
     },
     "metadata": {
      "needs_background": "light"
     },
     "output_type": "display_data"
    },
    {
     "name": "stdout",
     "output_type": "stream",
     "text": [
      "The best accuracy was with 0.6625759963972079 with k= 19\n"
     ]
    }
   ],
   "source": [
    "Ks = 20\n",
    "mean_acc = np.zeros((Ks-1))\n",
    "std_acc = np.zeros((Ks-1))\n",
    "\n",
    "for n in range(1,Ks):\n",
    "    neigh = KNeighborsClassifier(n_neighbors = n).fit(X_train2 ,y_train2)\n",
    "    yhat=neigh.predict(X_val)\n",
    "    mean_acc[n-1] = metrics.accuracy_score (y_val , yhat)\n",
    "    std_acc[n-1]=np.std(yhat == y_val )/np.sqrt(yhat.shape[0])\n",
    "    \n",
    "#Plot\n",
    "plt.plot(range(1,Ks),mean_acc ,'g')\n",
    "plt.fill_between (range(1,Ks),mean_acc- 1 * std_acc ,mean_acc + 1 * std_acc , alpha =0.10)\n",
    "plt.legend (('Accuracy ', '+/− 3xstd'))\n",
    "plt.ylabel('Accuracy ')\n",
    "plt.xlabel('Number of Neighbors (K)')\n",
    "plt.tight_layout()\n",
    "plt.show()\n",
    "\n",
    "print( \"The best accuracy was with\", mean_acc.max(), \"with k=\", mean_acc.argmax()+1)\n",
    "winsound.Beep(freq, duration)"
   ]
  },
  {
   "cell_type": "code",
   "execution_count": 11,
   "metadata": {},
   "outputs": [],
   "source": [
    "k=19\n",
    "neigh = KNeighborsClassifier(n_neighbors = k).fit(X_train,y_train)"
   ]
  },
  {
   "cell_type": "markdown",
   "metadata": {},
   "source": [
    "### Decision Tree"
   ]
  },
  {
   "cell_type": "code",
   "execution_count": 12,
   "metadata": {},
   "outputs": [
    {
     "data": {
      "text/plain": [
       "DecisionTreeClassifier()"
      ]
     },
     "execution_count": 12,
     "metadata": {},
     "output_type": "execute_result"
    }
   ],
   "source": [
    "from sklearn.tree import DecisionTreeClassifier\n",
    "tree = DecisionTreeClassifier(criterion =\"gini\")\n",
    "tree.fit(X_train, y_train)"
   ]
  },
  {
   "cell_type": "markdown",
   "metadata": {},
   "source": [
    "### SVM"
   ]
  },
  {
   "cell_type": "code",
   "execution_count": 36,
   "metadata": {},
   "outputs": [
    {
     "data": {
      "text/plain": [
       "SVC(C=0.1)"
      ]
     },
     "execution_count": 36,
     "metadata": {},
     "output_type": "execute_result"
    }
   ],
   "source": [
    "from sklearn import svm\n",
    "clf = svm.SVC(kernel='rbf',C=0.1)\n",
    "clf.fit(X_train, y_train)"
   ]
  },
  {
   "cell_type": "markdown",
   "metadata": {},
   "source": [
    "### Logistic Regression"
   ]
  },
  {
   "cell_type": "code",
   "execution_count": 52,
   "metadata": {},
   "outputs": [],
   "source": [
    "from sklearn. linear_model import LogisticRegression\n",
    "LR = LogisticRegression(C=1 , solver='liblinear').fit(X_train,y_train)"
   ]
  },
  {
   "cell_type": "markdown",
   "metadata": {},
   "source": [
    "## Model Evaluation"
   ]
  },
  {
   "cell_type": "code",
   "execution_count": 13,
   "metadata": {},
   "outputs": [],
   "source": [
    "from sklearn.metrics import jaccard_score\n",
    "from sklearn.metrics import f1_score\n",
    "from sklearn.metrics import log_loss"
   ]
  },
  {
   "cell_type": "code",
   "execution_count": 14,
   "metadata": {},
   "outputs": [],
   "source": [
    "rep_cols=['Algorithm','Jaccard','F1-score','LogLoss']\n",
    "report=pd.DataFrame(columns=rep_cols)\n",
    "algs=['KNN', 'Decision Tree', 'SVM', 'Logistic Regression']\n",
    "report['Algorithm']=algs"
   ]
  },
  {
   "cell_type": "code",
   "execution_count": 15,
   "metadata": {},
   "outputs": [],
   "source": [
    "yhat_knn=neigh.predict(X_test)\n",
    "#Jaccard score\n",
    "report.loc[0,'Jaccard']=round(metrics.jaccard_score(y_test, yhat_knn),2)\n",
    "#F1-score\n",
    "report.loc[0,'F1-score']=round(metrics.f1_score(y_test, yhat_knn, average='weighted'),2)"
   ]
  },
  {
   "cell_type": "code",
   "execution_count": 18,
   "metadata": {},
   "outputs": [],
   "source": [
    "yhat_dt=tree.predict(X_test)\n",
    "#Jaccard score\n",
    "report.loc[1,'Jaccard']=round(metrics.jaccard_score(y_test, yhat_dt),2)\n",
    "#F1-score\n",
    "report.loc[1,'F1-score']=round(metrics.f1_score(y_test, yhat_dt, average='weighted'),2)"
   ]
  },
  {
   "cell_type": "code",
   "execution_count": 37,
   "metadata": {},
   "outputs": [],
   "source": [
    "yhat_svm=clf.predict(X_test)\n",
    "#Jaccard score\n",
    "report.loc[2,'Jaccard']=round(metrics.jaccard_score(y_test, yhat_svm),2)\n",
    "#F1-score\n",
    "report.loc[2,'F1-score']=round(metrics.f1_score(y_test, yhat_svm, average='weighted'),2)"
   ]
  },
  {
   "cell_type": "code",
   "execution_count": 53,
   "metadata": {},
   "outputs": [],
   "source": [
    "yhat_log=LR.predict(X_test)\n",
    "yhat_logprob = LR.predict_proba(X_test)\n",
    "#Jaccard score\n",
    "report.loc[3,'Jaccard']=round(metrics.jaccard_score(y_test, yhat_log),2)\n",
    "#F1-score\n",
    "report.loc[3,'F1-score']=round(metrics.f1_score(y_test, yhat_log, average='weighted'),2)\n",
    "#LogLoss\n",
    "report.loc[3,'LogLoss']=round(metrics.log_loss(y_test,yhat_logprob),2)"
   ]
  },
  {
   "cell_type": "code",
   "execution_count": 59,
   "metadata": {},
   "outputs": [
    {
     "data": {
      "text/html": [
       "<div>\n",
       "<style scoped>\n",
       "    .dataframe tbody tr th:only-of-type {\n",
       "        vertical-align: middle;\n",
       "    }\n",
       "\n",
       "    .dataframe tbody tr th {\n",
       "        vertical-align: top;\n",
       "    }\n",
       "\n",
       "    .dataframe thead th {\n",
       "        text-align: right;\n",
       "    }\n",
       "</style>\n",
       "<table border=\"1\" class=\"dataframe\">\n",
       "  <thead>\n",
       "    <tr style=\"text-align: right;\">\n",
       "      <th></th>\n",
       "      <th>Jaccard</th>\n",
       "      <th>F1-score</th>\n",
       "      <th>LogLoss</th>\n",
       "    </tr>\n",
       "    <tr>\n",
       "      <th>Algorithm</th>\n",
       "      <th></th>\n",
       "      <th></th>\n",
       "      <th></th>\n",
       "    </tr>\n",
       "  </thead>\n",
       "  <tbody>\n",
       "    <tr>\n",
       "      <th>KNN</th>\n",
       "      <td>0.48</td>\n",
       "      <td>0.67</td>\n",
       "      <td>NA</td>\n",
       "    </tr>\n",
       "    <tr>\n",
       "      <th>Decision Tree</th>\n",
       "      <td>0.47</td>\n",
       "      <td>0.67</td>\n",
       "      <td>NA</td>\n",
       "    </tr>\n",
       "    <tr>\n",
       "      <th>SVM</th>\n",
       "      <td>0.49</td>\n",
       "      <td>0.68</td>\n",
       "      <td>NA</td>\n",
       "    </tr>\n",
       "    <tr>\n",
       "      <th>Logistic Regression</th>\n",
       "      <td>0.46</td>\n",
       "      <td>0.67</td>\n",
       "      <td>0.58</td>\n",
       "    </tr>\n",
       "  </tbody>\n",
       "</table>\n",
       "</div>"
      ],
      "text/plain": [
       "                    Jaccard F1-score LogLoss\n",
       "Algorithm                                   \n",
       "KNN                    0.48     0.67      NA\n",
       "Decision Tree          0.47     0.67      NA\n",
       "SVM                    0.49     0.68      NA\n",
       "Logistic Regression    0.46     0.67    0.58"
      ]
     },
     "execution_count": 59,
     "metadata": {},
     "output_type": "execute_result"
    }
   ],
   "source": [
    "report[\"LogLoss\"].replace(np.nan,'NA',inplace=True)\n",
    "report.set_index('Algorithm')"
   ]
  }
 ],
 "metadata": {
  "kernelspec": {
   "display_name": "Python [conda env:datascience]",
   "language": "python",
   "name": "conda-env-datascience-py"
  },
  "language_info": {
   "codemirror_mode": {
    "name": "ipython",
    "version": 3
   },
   "file_extension": ".py",
   "mimetype": "text/x-python",
   "name": "python",
   "nbconvert_exporter": "python",
   "pygments_lexer": "ipython3",
   "version": "3.7.7"
  }
 },
 "nbformat": 4,
 "nbformat_minor": 1
}
